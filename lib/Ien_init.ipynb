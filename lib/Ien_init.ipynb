{
 "cells": [
  {
   "cell_type": "markdown",
   "metadata": {},
   "source": [
    "# Задача динамического рассеяния света (DLS)"
   ]
  },
  {
   "cell_type": "markdown",
   "metadata": {},
   "source": [
    "В DLS, PSD можно перевернуть от нормализованного ACF электрического поля\n",
    "$$\n",
    "g(\\tau) = \\int_{0}^{\\infty} G(\\Gamma)\\exp(-\\Gamma\\tau)d\\Gamma    (1)\n",
    "$$\n",
    "в котором G-ширина линии распада, τ-время задержки, а $G(\\Gamma)$- нормализованная функция распределения линии распада. $G(\\Gamma)$ содержит информацию PSD и удовлетворяет условиям $\\int_{0}^{\\infty}G(\\Gamma)d\\Gamma = 1$. Согласно следующим трем формулам, PSD может быть решена из некорректного уравнения (1).\n",
    "\n",
    "$$\n",
    "\\Gamma = Dq^2 \n",
    "$$\n",
    "\n",
    "$$\n",
    "q = \\frac{4\\pi l}{\\lambda}\\sin(\\frac{\\theta}{2})\n",
    "$$\n",
    "\n",
    "$$\n",
    "D = \\frac{kbT}{3\\pi\\eta d}\n",
    "$$\n",
    "\n",
    "в котором q-рассеянный вектор, D-коэффициент диффузии, l-длина волны падающего света в вакуум, q-угол рассеяния, l-показатель преломления раствора, T-абсолютная температура, kb - постоянная Больцмана, d-диаметр частицы, а $\\eta$ -вязкость раствора\n",
    "\n",
    "Решение задачи динамического рассеяния света (DLS) позволяет определять размеры частиц в растворе по спектру интенсивности рассеяного света. Если растворе представлен один сорт частиц, то спектр итенсивности для нее определяется кривой Лоренца:\n",
    "$$\n",
    "I(f) = \\frac{A}{\\pi} \\frac{\\Gamma}{(2\\pi f)^2 + \\Gamma^2}\n",
    "$$\n",
    "Здесь $f$ - частота, $\\Gamma$ - характеристика частицы, обратно пропорциональная ее диаметру.\n",
    "\n",
    "Для раствора, содержащего $n$ частиц, спектр интенсивности есть сумма Лоренцов для каждой отдельной частицы, взятых с определенным весом, пропорциональным их концентрации:\n",
    "$$\n",
    "I(f) = \\frac{1}{\\pi} \\sum_{i=1}^n\\frac{A(\\Gamma_i)\\Gamma_i}{(2\\pi f)^2 + \\Gamma_i^2}\n",
    "$$\n",
    "\n",
    "В результате эксперимента методом DLS получается кривая интенсивности рассеяния, по которой необходимо определить частицы каких размеров представлены в растворе. Предполагая, что "
   ]
  },
  {
   "cell_type": "code",
   "execution_count": 1,
   "metadata": {},
   "outputs": [],
   "source": [
    "\n",
    "%matplotlib inline\n",
    "import numpy as np\n",
    "from matplotlib import pyplot as plt\n",
    "import sklearn.linear_model as sklm\n",
    "import scipy\n",
    "from numpy.fft import fft, fftfreq\n",
    "import pywt\n",
    "\n",
    "#fft Вычислить одномерное дискретное преобразование Фурье.\n",
    "#fftreq Верните дискретные частоты выборки преобразования Фурье.\n",
    "# основные константы. В этой части определяется все, что связано с постановкой эксперимента\n",
    "kb = 1.38064e-23 # постоянная Больцмана\n",
    "T = 273.15 + 24.85 # температура в K\n",
    "theta = np.pi/2 # угол рассеяния\n",
    "n = 1.3331 # показатель преломления\n",
    "eta = 0.89e-3 # Н * с/м^2 - динамическая вязкость воды\n",
    "l = 632.8e-9 # Длина волны лазера\n",
    "\n",
    "# далее задаем коэффициент, связывающий характеричтику Gamma с размером частицы\n",
    "coeff = (kb * T/(3 * np.pi * eta)) * (4 * np.pi * n / l)**2 * np.sin(theta/2)**2\n",
    "d1 = 100e-9\n",
    "G1 = coeff / d1 # Gamma для частицы размером 300 нм\n",
    "d2 = 200e-9\n",
    "G2 = coeff / d2\n",
    "\n",
    "# определяем кривые Лоренца для частиц\n",
    "w = np.arange(1,10001)\n",
    "y1 = G1 / ((2 * np.pi * w)**2 + G1**2)\n",
    "y2 = G2 / ((2 * np.pi * w)**2 + G2**2)\n",
    "y = y1 + y2\n",
    "#y = y1\n",
    "\n"
   ]
  },
  {
   "cell_type": "code",
   "execution_count": 2,
   "metadata": {},
   "outputs": [
    {
     "data": {
      "text/plain": [
       "[<matplotlib.lines.Line2D at 0x2382c4a29e8>]"
      ]
     },
     "execution_count": 2,
     "metadata": {},
     "output_type": "execute_result"
    },
    {
     "data": {
      "image/png": "[encoded data removed]",
      "text/plain": [
       "<Figure size 432x288 with 1 Axes>"
      ]
     },
     "metadata": {},
     "output_type": "display_data"
    }
   ],
   "source": [
    "%matplotlib inline\n",
    "from matplotlib import pyplot as plt\n",
    "\n",
    "# кривая Лоренца\n",
    "plt.plot(w, y)"
   ]
  },
  {
   "cell_type": "markdown",
   "metadata": {},
   "source": [
    "# Преобразование Фурье получит Лоренц"
   ]
  },
  {
   "cell_type": "code",
   "execution_count": 3,
   "metadata": {},
   "outputs": [
    {
     "data": {
      "image/png": "[encoded data removed]",
      "text/plain": [
       "<Figure size 432x288 with 1 Axes>"
      ]
     },
     "metadata": {},
     "output_type": "display_data"
    }
   ],
   "source": [
    "%matplotlib inline\n",
    "import numpy as np\n",
    "import matplotlib.pyplot as plt\n",
    "import scipy.fftpack\n",
    "\n",
    "#fig = plt.figure(figsize=[14,4])\n",
    "N = 10000           # Number of samplepoints\n",
    "Fs = 11025.0\n",
    "T = 1.0 / Fs      # N_samps*T (#samples x sample period) is the sample spacing.\n",
    "#N_fft = 80        # Number of bins (chooses granularity)\n",
    "x = np.linspace(0, N* T, N)     # the interval\n",
    "y = y1 + y2   # the signal\n",
    "\n",
    "\n",
    "# Compute the fft.\n",
    "xf = np.linspace(0.0, 1.0/(2.0*T), N//2)\n",
    "yf = scipy.fftpack.fft(y)\n",
    "\n",
    "\n",
    "##### Plot the fft #####\n",
    "plt.figure(1)\n",
    "plt.plot(xf, 2.0/N * np.abs(yf[0:N//2]))\n",
    "plt.grid()\n",
    "plt.title(\"True fft\")\n",
    "plt.show()\n",
    "#plt.figure(2)\n",
    "#plt.plot(x, y, label = \" f(x)\")\n",
    "#plt.show()"
   ]
  },
  {
   "cell_type": "code",
   "execution_count": 4,
   "metadata": {},
   "outputs": [],
   "source": [
    "# диапазон размеров частиц, где ищем нужный размер \n",
    "d_min = 1e-9 # 1 нм\n",
    "d_max = 1e-6 \n",
    "\n",
    "# задаем сетку по Gamma\n",
    "G_min = coeff/d_max\n",
    "G_max = coeff/d_min\n",
    "N = 256*8 # Число узлов в сетке по \\Gamma\n",
    "M = w.size # Число точек по частоте\n",
    "p = (G_max/G_min)**(1/(N-1))\n",
    "G = np.zeros(N)\n",
    "\n",
    "# неравнмерная сетка со сгущением к нулю (так как больщий вклад в интенсивность дают крупные частицы)\n",
    "# хотя такая сетка - это не единственно возможный вариант\n",
    "for j in range(N):\n",
    "    G[j] = G_min * (p**j)\n",
    "\n",
    "# вот равномерная сетка\n",
    "#G = np.linspace(G_min, G_max, N)    \n",
    "\n",
    "A = np.zeros((M,N))\n",
    "\n",
    "# Матрица коэффициентов (составляется по базисным ф-ям)\n",
    "for i in range(M):\n",
    "    for j in range(N):\n",
    "        A[i,j] = G[j] / ((2 * np.pi * w[i])**2 + G[j]**2)  "
   ]
  },
  {
   "cell_type": "markdown",
   "metadata": {},
   "source": [
    "# Метод Cumulants\n",
    "\n",
    "\n"
   ]
  },
  {
   "cell_type": "code",
   "execution_count": 5,
   "metadata": {},
   "outputs": [],
   "source": [
    "# g ˆ2 = B + beta*eˆ{-2*Gamma\\ tau }*(1 + mu_2 /2! *tau ˆ2 - mu_3 /3! *tau ˆ3 ), B = 1\n",
    "from scipy.optimize import curve_fit\n",
    "def fitmodel_2nd_cumulant(x, B, beta, Gamma, mu_2):\n",
    "    return B + beta * np.exp**(-2 *Gamma* x) + (1 + (mu_2/2 * t**2)**2)"
   ]
  },
  {
   "cell_type": "code",
   "execution_count": 6,
   "metadata": {},
   "outputs": [
    {
     "data": {
      "text/plain": [
       "(1.0, 1000.0)"
      ]
     },
     "execution_count": 6,
     "metadata": {},
     "output_type": "execute_result"
    },
    {
     "data": {
      "image/png": "[encoded data removed]",
      "text/plain": [
       "<Figure size 432x288 with 1 Axes>"
      ]
     },
     "metadata": {},
     "output_type": "display_data"
    }
   ],
   "source": [
    "# Три метода решения переопределенной системы: Тихоновская регуляризация, неотрицательная Тихоновская регялризация и метод Лассо\n",
    "# Ridge regression\n",
    "\n",
    "clf = sklm.Ridge(alpha = 5e-7)\n",
    "clf.fit(A, y)\n",
    "a1 = clf.coef_\n",
    "\n",
    "fig = plt.figure()\n",
    "ax = plt.subplot(3,1,1)\n",
    "line, = plt.plot(1e+9 * coeff/G, a1,'.-')\n",
    "ax.set_xscale('log')\n",
    "plt.xlim(d_min*1e9, d_max*1e9)\n",
    "#scipy.stats.rv_continuous.fit// Maxcimum likelihood\n",
    "#scipy.maxentropy \n",
    "#nnls \n",
    "#scipy.optimize.nnls\n",
    "#plt.plot(freqs[mask], fft_theo[mask], label= \"fft\")\n",
    "#scipy.stats.kstat -метод кумулянты"
   ]
  },
  {
   "cell_type": "code",
   "execution_count": null,
   "metadata": {},
   "outputs": [],
   "source": []
  },
  {
   "cell_type": "code",
   "execution_count": null,
   "metadata": {},
   "outputs": [],
   "source": []
  },
  {
   "cell_type": "code",
   "execution_count": 91,
   "metadata": {},
   "outputs": [
    {
     "name": "stdout",
     "output_type": "stream",
     "text": [
      "[2.23506161e+00 1.95440559e+00 1.66249392e+00 ... 2.82915972e+03\n",
      " 2.82945164e+03 2.82970550e+03]\n"
     ]
    }
   ],
   "source": [
    "from pywt import wavedec\n",
    "coeffs = wavedec(np.arange(1,2001, 0.1), 'db5', level=1)\n",
    "cA1, cD1 = coeffs\n",
    "print(cA1)"
   ]
  },
  {
   "cell_type": "code",
   "execution_count": null,
   "metadata": {},
   "outputs": [],
   "source": []
  }
 ],
 "metadata": {
  "kernelspec": {
   "display_name": "Python 3",
   "language": "python",
   "name": "python3"
  },
  "language_info": {
   "codemirror_mode": {
    "name": "ipython",
    "version": 3
   },
   "file_extension": ".py",
   "mimetype": "text/x-python",
   "name": "python",
   "nbconvert_exporter": "python",
   "pygments_lexer": "ipython3",
   "version": "3.6.5"
  }
 },
 "nbformat": 4,
 "nbformat_minor": 2
}
